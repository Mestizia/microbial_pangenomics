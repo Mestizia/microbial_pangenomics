{
 "cells": [
  {
   "cell_type": "code",
   "execution_count": 46,
   "metadata": {},
   "outputs": [],
   "source": [
    "import pandas as pd\n",
    "import numpy as np\n",
    "from Bio import SeqIO\n",
    "import regex as re\n",
    "import scipy\n",
    "import seaborn as sns\n",
    "import matplotlib.pyplot as plt\n"
   ]
  },
  {
   "cell_type": "code",
   "execution_count": 47,
   "metadata": {},
   "outputs": [],
   "source": [
    "def get_atsphere_taxonomy(taxonomy_df):\n",
    "    #Parse the taxonomy table and separate into sphingo and non-sphingo\n",
    "    #Return dataframe with id and taxonomy\n",
    "    sphingo_df = taxonomy_df[taxonomy_df.loc[:, 1] == 'Sphingomonadaceae']\n",
    "    nonsphingo_df = taxonomy_df[taxonomy_df.loc[:, 1] != 'Sphingomonadaceae']\n",
    "\n",
    "    return sphingo_df, non_sphingo_df\n",
    "\n",
    "def parse_media_preference():\n",
    "    #parse the xml table with the media experiment for each strain\n",
    "    #return dataframe with strain id and media preference\n",
    "    return\n",
    "\n",
    "def get_atsphere_media_preference():\n",
    "    #merge the two dataframes and return the merged dataframe   \n",
    "    return"
   ]
  },
  {
   "cell_type": "code",
   "execution_count": 48,
   "metadata": {},
   "outputs": [],
   "source": [
    "def get_at_name(genomes_path, taxonomy_df):\n",
    "    leaf_genomes = pd.DataFrame(index=taxonomy_df.index, columns=['at_name'])\n",
    "    for genome in taxonomy_df.index:\n",
    "#        print (genomes_path.loc[genome]['path'])\n",
    "        fasta = open(genomes_path.loc[genome]['path']).read()\n",
    "        header = fasta.split('\\n')[0]\n",
    "        if 'Leaf' in header:\n",
    "            leaf_name = 'Leaf{}'.format(header.split('Leaf')[1].split(' ')[0])\n",
    "            if \"_\" in leaf_name:\n",
    "                leaf_name = leaf_name.split('_')[0]\n",
    "            leaf_genomes.loc[genome]['at_name'] = leaf_name\n",
    "\n",
    "    return leaf_genomes.dropna(how='any')\n",
    "\n",
    "#get_at_name(taxonomy_df)\n",
    "genomes_path =  pd.read_csv('/DATA_RAID2/vtracann/shared/db/isolates/genomes_representatives_batchfile.txt', sep='\\t', header=None, names=['path', 'genome'])\n",
    "genomes_path.set_index('genome', inplace=True)\n",
    "taxonomy_df = pd.read_csv('/DATA_RAID2/vtracann/shared/db/isolates/family_gtdbtk_annot.tsv', sep='\\t', index_col=0, header=None)\n",
    "\n",
    "leaf_genomes = get_at_name(genomes_path, taxonomy_df)\n",
    "\n"
   ]
  },
  {
   "cell_type": "code",
   "execution_count": 75,
   "metadata": {},
   "outputs": [
    {
     "name": "stdout",
     "output_type": "stream",
     "text": [
      "Leaf1      18.0\n",
      "Leaf2       8.0\n",
      "Leaf3       9.0\n",
      "Leaf4      19.0\n",
      "Leaf5      15.0\n",
      "           ... \n",
      "Leaf159    18.0\n",
      "Leaf88     11.0\n",
      "Leaf89     11.0\n",
      "Leaf106    14.0\n",
      "Leaf108    11.0\n",
      "Length: 224, dtype: float64\n",
      "Index(['Leaf1', 'Leaf2', 'Leaf3', 'Leaf4', 'Leaf5', 'Leaf7', 'Leaf8', 'Leaf9',\n",
      "       'Leaf10', 'Leaf11',\n",
      "       ...\n",
      "       'Leaf466', 'Leaf469', 'Leaf129', 'Leaf130', 'Leaf145', 'Leaf159',\n",
      "       'Leaf88', 'Leaf89', 'Leaf106', 'Leaf108'],\n",
      "      dtype='object', length=224)\n",
      "['Leaf4', 'Leaf5', 'Leaf9', 'Leaf21', 'Leaf29', 'Leaf32', 'Leaf37', 'Leaf59', 'Leaf68', 'Leaf73', 'Leaf98', 'Leaf118', 'Leaf132', 'Leaf167', 'Leaf170', 'Leaf171', 'Leaf185', 'Leaf205', 'Leaf248', 'Leaf250', 'Leaf294', 'Leaf313', 'Leaf335', 'Leaf350', 'Leaf374', 'Leaf401', 'Leaf407', 'Leaf408']\n"
     ]
    }
   ],
   "source": [
    "\n",
    "media_preference_file = pd.read_csv('/DATA_RAID2/vtracann/shared/db/isolates/medium/CSourceScreen_Jul2022.csv', sep='\\t', index_col=0)\n",
    "\n",
    "print (media_preference_file.sum(axis=1))\n",
    "\n",
    "\n",
    "#drop columns with NaNs.\n",
    "media_preference_file = media_preference_file.dropna(how='any',axis=1)\n",
    "\n",
    "#sphingo_df, nonsphingo_df = get_atsphere_taxonomy(taxonomy_df)\n",
    "\n",
    "#print (sphingo_df.index)\n",
    "print (media_preference_file.index)\n",
    "\n",
    "#find out why they are not here => wrong field in the metadata file in ncbi\n",
    "print ([x for x in media_preference_file.index if x not in leaf_genomes.values])\n"
   ]
  },
  {
   "cell_type": "code",
   "execution_count": 50,
   "metadata": {},
   "outputs": [
    {
     "name": "stdout",
     "output_type": "stream",
     "text": [
      "               h2o  malt  his__L  galur  trp__L  tyr__L  glcn  inost  arab__L   \n",
      "GCF_001421315  0.0   1.0     1.0    0.0     0.0     0.0   1.0    0.0      0.0  \\\n",
      "GCF_001421325  0.0   0.0     0.0    1.0     0.0     0.0   0.0    0.0      0.0   \n",
      "GCF_001425965  0.0   1.0     0.0    0.0     0.0     0.0   0.0    0.0      0.0   \n",
      "GCF_001425985  0.0   0.0     0.0    0.0     0.0     0.0   1.0    1.0      0.0   \n",
      "GCF_001421165  0.0   1.0     0.0    0.0     0.0     0.0   1.0    1.0      0.0   \n",
      "...            ...   ...     ...    ...     ...     ...   ...    ...      ...   \n",
      "GCF_001423615  0.0   1.0     0.0    0.0     0.0     1.0   1.0    0.0      0.0   \n",
      "GCF_001422795  1.0   0.0     0.0    0.0     0.0     0.0   0.0    0.0      0.0   \n",
      "GCF_001422215  1.0   0.0     0.0    0.0     0.0     0.0   0.0    0.0      0.0   \n",
      "GCF_001422895  1.0   0.0     0.0    0.0     0.0     0.0   1.0    0.0      0.0   \n",
      "GCF_001423265  1.0   0.0     0.0    0.0     0.0     0.0   0.0    0.0      0.0   \n",
      "\n",
      "               glu__L  ...  mma  cellb  asn__L  pro__L  oxa  sucr  gal   \n",
      "GCF_001421315     1.0  ...  0.0    1.0     1.0     0.0  0.0   1.0  1.0  \\\n",
      "GCF_001421325     0.0  ...  0.0    1.0     0.0     1.0  0.0   0.0  0.0   \n",
      "GCF_001425965     0.0  ...  0.0    1.0     0.0     0.0  0.0   1.0  1.0   \n",
      "GCF_001425985     1.0  ...  0.0    0.0     1.0     0.0  0.0   1.0  1.0   \n",
      "GCF_001421165     0.0  ...  0.0    1.0     0.0     0.0  0.0   1.0  1.0   \n",
      "...               ...  ...  ...    ...     ...     ...  ...   ...  ...   \n",
      "GCF_001423615     1.0  ...  0.0    1.0     0.0     0.0  0.0   1.0  1.0   \n",
      "GCF_001422795     1.0  ...  0.0    0.0     1.0     0.0  1.0   0.0  0.0   \n",
      "GCF_001422215     1.0  ...  0.0    0.0     1.0     0.0  0.0   0.0  0.0   \n",
      "GCF_001422895     1.0  ...  0.0    0.0     1.0     0.0  1.0   0.0  0.0   \n",
      "GCF_001423265     1.0  ...  0.0    0.0     1.0     0.0  1.0   0.0  0.0   \n",
      "\n",
      "               lys__L  phe__L                  1  \n",
      "GCF_001421315     0.0     0.0  Microbacteriaceae  \n",
      "GCF_001421325     0.0     0.0  Sphingomonadaceae  \n",
      "GCF_001425965     0.0     0.0  Cellulomonadaceae  \n",
      "GCF_001425985     0.0     0.0   Mycobacteriaceae  \n",
      "GCF_001421165     0.0     0.0  Microbacteriaceae  \n",
      "...               ...     ...                ...  \n",
      "GCF_001423615     0.0     0.0  Microbacteriaceae  \n",
      "GCF_001422795     0.0     0.0   Beijerinckiaceae  \n",
      "GCF_001422215     0.0     0.0   Beijerinckiaceae  \n",
      "GCF_001422895     0.0     0.0   Beijerinckiaceae  \n",
      "GCF_001423265     0.0     0.0   Beijerinckiaceae  \n",
      "\n",
      "[196 rows x 47 columns]\n"
     ]
    }
   ],
   "source": [
    "#rename rows in media preference file to match taxonomy file using leaf_genomes to match\n",
    "leaf_genome_values = leaf_genomes.values.flatten()\n",
    "media_index = media_preference_file.index\n",
    "new_index = []\n",
    "\n",
    "for i in media_index:\n",
    "    if i in leaf_genomes.values.flatten():\n",
    "        i_match = np.where(leaf_genomes.values.flatten() == i)[0][0]\n",
    "        new_index.append(leaf_genomes.index[i_match])\n",
    "    else:\n",
    "        new_index.append(i)\n",
    "\n",
    "media_preference_file.index = new_index\n",
    "\n",
    "t_media = pd.concat([media_preference_file, taxonomy_df], axis=1).dropna(how='any')\n",
    "\n",
    "print (t_media)\n",
    "\n",
    "#remember that there are l-sphere missing for metdata reasons"
   ]
  },
  {
   "cell_type": "code",
   "execution_count": 95,
   "metadata": {},
   "outputs": [
    {
     "name": "stdout",
     "output_type": "stream",
     "text": [
      "                 0              1\n",
      "GCF_001424585  0.0  Weeksellaceae\n",
      "GCF_001421435  0.0  Weeksellaceae\n",
      "GCF_001424105  0.0  Weeksellaceae\n",
      "GCF_001424145  0.0  Weeksellaceae\n",
      "GCF_001425355  0.0  Weeksellaceae\n"
     ]
    }
   ],
   "source": [
    "substrate_summary = pd.concat([t_media.iloc[:, :-1].sum(axis=1), t_media.iloc[:, -1]], axis=1)\n",
    "print (substrate_summary[substrate_summary.loc[:, 1] == 'Weeksellaceae'])\n",
    "#sns.histplot(substrate_summary, bins=20, hue='1')\n",
    "#plt.show()"
   ]
  },
  {
   "cell_type": "code",
   "execution_count": 97,
   "metadata": {},
   "outputs": [
    {
     "name": "stdout",
     "output_type": "stream",
     "text": [
      "['Microbacteriaceae', 'Beijerinckiaceae', 'Sphingomonadaceae', 'Rhizobiaceae', 'Burkholderiaceae', 'Pseudomonadaceae', 'Nocardioidaceae', 'Mycobacteriaceae', 'Micrococcaceae']\n",
      "Microbacteriaceae\n"
     ]
    },
    {
     "name": "stderr",
     "output_type": "stream",
     "text": [
      "/tmp/ipykernel_3145126/738855799.py:38: RuntimeWarning: invalid value encountered in scalar divide\n",
      "  between_species_jaccard_df.loc[i, k] = scipy.signal.correlate(species_media.loc[i, :], nonspecies_media.loc[k, :], mode='valid')[0]/min(i_tot, k_tot)\n"
     ]
    },
    {
     "name": "stdout",
     "output_type": "stream",
     "text": [
      "Beijerinckiaceae\n"
     ]
    },
    {
     "name": "stderr",
     "output_type": "stream",
     "text": [
      "/tmp/ipykernel_3145126/738855799.py:38: RuntimeWarning: invalid value encountered in scalar divide\n",
      "  between_species_jaccard_df.loc[i, k] = scipy.signal.correlate(species_media.loc[i, :], nonspecies_media.loc[k, :], mode='valid')[0]/min(i_tot, k_tot)\n"
     ]
    },
    {
     "name": "stdout",
     "output_type": "stream",
     "text": [
      "Sphingomonadaceae\n"
     ]
    },
    {
     "name": "stderr",
     "output_type": "stream",
     "text": [
      "/tmp/ipykernel_3145126/738855799.py:38: RuntimeWarning: invalid value encountered in scalar divide\n",
      "  between_species_jaccard_df.loc[i, k] = scipy.signal.correlate(species_media.loc[i, :], nonspecies_media.loc[k, :], mode='valid')[0]/min(i_tot, k_tot)\n"
     ]
    },
    {
     "name": "stdout",
     "output_type": "stream",
     "text": [
      "Rhizobiaceae\n"
     ]
    },
    {
     "name": "stderr",
     "output_type": "stream",
     "text": [
      "/tmp/ipykernel_3145126/738855799.py:38: RuntimeWarning: invalid value encountered in scalar divide\n",
      "  between_species_jaccard_df.loc[i, k] = scipy.signal.correlate(species_media.loc[i, :], nonspecies_media.loc[k, :], mode='valid')[0]/min(i_tot, k_tot)\n"
     ]
    },
    {
     "name": "stdout",
     "output_type": "stream",
     "text": [
      "Burkholderiaceae\n"
     ]
    },
    {
     "name": "stderr",
     "output_type": "stream",
     "text": [
      "/tmp/ipykernel_3145126/738855799.py:38: RuntimeWarning: invalid value encountered in scalar divide\n",
      "  between_species_jaccard_df.loc[i, k] = scipy.signal.correlate(species_media.loc[i, :], nonspecies_media.loc[k, :], mode='valid')[0]/min(i_tot, k_tot)\n"
     ]
    },
    {
     "name": "stdout",
     "output_type": "stream",
     "text": [
      "Pseudomonadaceae\n"
     ]
    },
    {
     "name": "stderr",
     "output_type": "stream",
     "text": [
      "/tmp/ipykernel_3145126/738855799.py:38: RuntimeWarning: invalid value encountered in scalar divide\n",
      "  between_species_jaccard_df.loc[i, k] = scipy.signal.correlate(species_media.loc[i, :], nonspecies_media.loc[k, :], mode='valid')[0]/min(i_tot, k_tot)\n"
     ]
    },
    {
     "name": "stdout",
     "output_type": "stream",
     "text": [
      "Nocardioidaceae\n"
     ]
    },
    {
     "name": "stderr",
     "output_type": "stream",
     "text": [
      "/tmp/ipykernel_3145126/738855799.py:38: RuntimeWarning: invalid value encountered in scalar divide\n",
      "  between_species_jaccard_df.loc[i, k] = scipy.signal.correlate(species_media.loc[i, :], nonspecies_media.loc[k, :], mode='valid')[0]/min(i_tot, k_tot)\n"
     ]
    },
    {
     "name": "stdout",
     "output_type": "stream",
     "text": [
      "Mycobacteriaceae\n"
     ]
    },
    {
     "name": "stderr",
     "output_type": "stream",
     "text": [
      "/tmp/ipykernel_3145126/738855799.py:38: RuntimeWarning: invalid value encountered in scalar divide\n",
      "  between_species_jaccard_df.loc[i, k] = scipy.signal.correlate(species_media.loc[i, :], nonspecies_media.loc[k, :], mode='valid')[0]/min(i_tot, k_tot)\n"
     ]
    },
    {
     "name": "stdout",
     "output_type": "stream",
     "text": [
      "Micrococcaceae\n"
     ]
    },
    {
     "name": "stderr",
     "output_type": "stream",
     "text": [
      "/tmp/ipykernel_3145126/738855799.py:38: RuntimeWarning: invalid value encountered in scalar divide\n",
      "  between_species_jaccard_df.loc[i, k] = scipy.signal.correlate(species_media.loc[i, :], nonspecies_media.loc[k, :], mode='valid')[0]/min(i_tot, k_tot)\n"
     ]
    }
   ],
   "source": [
    "sphingo_list = taxonomy_df.loc[taxonomy_df[1] == 'Sphingomonadaceae'].index.tolist()\n",
    "nonsphingo_list = taxonomy_df.loc[taxonomy_df[1] != 'Sphingomonadaceae'].index.tolist()\n",
    "\n",
    "#print (len(sphingo_list))\n",
    "#print (len(nonsphingo_list))\n",
    "\n",
    "media_preference_sphingo = t_media[t_media.loc[:, 1]  == 'Sphingomonadaceae']\n",
    "\n",
    "#print counts of column 1 for each species\n",
    "#print (t_media.loc[:, 1].value_counts())\n",
    "\n",
    "abundant_taxa = t_media.loc[:, 1].value_counts().index.tolist()[:9]\n",
    "#NB: we exclude the last one because weeksellaceae does not grow in the media we use\n",
    "\n",
    "for taxa in abundant_taxa:\n",
    "    print (taxa)\n",
    "    #print (t_media.loc[t_media.loc[:, 1] == taxa])\n",
    "    #calculate the jaccard index within species and between this species and the rest of the species\n",
    "    #to do that, we use scipy.signal.correlate for all the columns but the last one (which is the species name) which gives us the jaccard index\n",
    "    #next, we calculate the mean of the jaccard index within species and between this species and the rest of the species\n",
    "    #we also calculate the standard deviation of the jaccard index within species and between this species and the rest of the species\n",
    "\n",
    "    species_media = t_media.loc[t_media.loc[:, 1] == taxa].iloc[:, :-1]\n",
    "    nonspecies_media = t_media.loc[t_media.loc[:, 1] != taxa].iloc[:, :-1]\n",
    "\n",
    "    within_species_jaccard_df = pd.DataFrame(index=species_media.index, columns=species_media.index)\n",
    "    between_species_jaccard_df = pd.DataFrame(index=species_media.index, columns=nonspecies_media.index)\n",
    "\n",
    "    for i in species_media.index:\n",
    "        i_tot = species_media.loc[i, :].sum()\n",
    "        for j in species_media.index:\n",
    "            if i == j:\n",
    "                within_species_jaccard_df.loc[i, j] = np.nan\n",
    "            else:\n",
    "                j_tot = species_media.loc[j, :].sum()\n",
    "                within_species_jaccard_df.loc[i, j] = scipy.signal.correlate(species_media.loc[i, :], species_media.loc[j, :], mode='valid')[0]/min(i_tot, j_tot)\n",
    "        for k in nonspecies_media.index:\n",
    "            k_tot = nonspecies_media.loc[k, :].sum()\n",
    "            between_species_jaccard_df.loc[i, k] = scipy.signal.correlate(species_media.loc[i, :], nonspecies_media.loc[k, :], mode='valid')[0]/min(i_tot, k_tot)\n",
    "        \n",
    "    #create a histplot where we show both the within species and between species jaccard index distributions\n",
    "\n",
    "    within_species_jaccard_df = within_species_jaccard_df.astype(float)\n",
    "    between_species_jaccard_df = between_species_jaccard_df.astype(float)\n",
    "    \n",
    "    within_species_jaccard_df = within_species_jaccard_df.stack().reset_index()\n",
    "    within_species_jaccard_df.columns = ['species1', 'species2', 'jaccard_index']\n",
    "\n",
    "    between_species_jaccard_df = between_species_jaccard_df.stack().reset_index()\n",
    "    between_species_jaccard_df.columns = ['species1', 'species2', 'jaccard_index']\n",
    "\n",
    "    within_species_jaccard_df['type'] = 'within_species'\n",
    "    between_species_jaccard_df['type'] = 'between_species'\n",
    "    jaccard_df = pd.concat([within_species_jaccard_df, between_species_jaccard_df])\n",
    "\n",
    "    fig, ax = plt.subplots(figsize=(10, 10))\n",
    "    sns.violinplot(data=jaccard_df, x='jaccard_index', y='type', ax=ax, bw_adjust=5)\n",
    "    ax.set_title(taxa)\n",
    "    plt.show()\n",
    "    plt.close()\n",
    "\n",
    "    print ('mean within species jaccard index: ' + str(within_species_jaccard_df['jaccard_index'].mean()))\n",
    "    print ('std within species jaccard index: ' + str(within_species_jaccard_df['jaccard_index'].std()))\n",
    "    print ('mean between species jaccard index: ' + str(between_species_jaccard_df['jaccard_index'].mean()))\n",
    "    print ('std between species jaccard index: ' + str(between_species_jaccard_df['jaccard_index'].std()))\n",
    "\n",
    "\n",
    "\n",
    "\n"
   ]
  }
 ],
 "metadata": {
  "kernelspec": {
   "display_name": "base",
   "language": "python",
   "name": "python3"
  },
  "language_info": {
   "codemirror_mode": {
    "name": "ipython",
    "version": 3
   },
   "file_extension": ".py",
   "mimetype": "text/x-python",
   "name": "python",
   "nbconvert_exporter": "python",
   "pygments_lexer": "ipython3",
   "version": "3.9.13"
  },
  "orig_nbformat": 4
 },
 "nbformat": 4,
 "nbformat_minor": 2
}
