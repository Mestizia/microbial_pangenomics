{
 "cells": [
  {
   "cell_type": "code",
   "execution_count": null,
   "metadata": {},
   "outputs": [],
   "source": [
    "import os\n",
    "import sys"
   ]
  },
  {
   "cell_type": "code",
   "execution_count": null,
   "metadata": {},
   "outputs": [],
   "source": [
    "#get the list of GCs that did not show up in eggnogg\n",
    "\n",
    "orphan_GC = open('/home/vtracann/GC_not_in_go_df.txt').read().split('\\n')[:-1]\n",
    "print(orphan_GC)\n"
   ]
  },
  {
   "cell_type": "code",
   "execution_count": null,
   "metadata": {},
   "outputs": [],
   "source": [
    "#get the gapless GC fasta file\n",
    "\n",
    "GC_fasta = open('/DATA_RAID2/vtracann/shared/db/isolates/anvio/filtered_panpangenome/recover_edit_gene_clusters.faa').read().split('>')[1:]\n",
    "\n",
    "#get all the GCs that have the orphan GCs in them\n",
    "\n",
    "orphan_GC_fasta = ''\n",
    "\n",
    "for GC in GC_fasta:\n",
    "    GC_name = GC.split('|')[1].split(':')[1]\n",
    "    if GC_name in orphan_GC:\n",
    "        orphan_GC_fasta += '>' + GC\n"
   ]
  },
  {
   "cell_type": "code",
   "execution_count": null,
   "metadata": {},
   "outputs": [],
   "source": [
    "outfile = open('/DATA_RAID2/vtracann/shared/db/isolates/anvio/filtered_panpangenome/orphan_gc.fa', 'w')\n",
    "outfile.write(orphan_GC_fasta)\n",
    "outfile.close()"
   ]
  },
  {
   "cell_type": "code",
   "execution_count": null,
   "metadata": {},
   "outputs": [],
   "source": [
    "print (orphan_GC_fasta)"
   ]
  }
 ],
 "metadata": {
  "kernelspec": {
   "display_name": "base",
   "language": "python",
   "name": "python3"
  },
  "language_info": {
   "codemirror_mode": {
    "name": "ipython",
    "version": 3
   },
   "file_extension": ".py",
   "mimetype": "text/x-python",
   "name": "python",
   "nbconvert_exporter": "python",
   "pygments_lexer": "ipython3",
   "version": "3.9.13"
  }
 },
 "nbformat": 4,
 "nbformat_minor": 2
}
