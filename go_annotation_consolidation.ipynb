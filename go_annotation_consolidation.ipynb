{
 "cells": [
  {
   "cell_type": "markdown",
   "metadata": {},
   "source": []
  },
  {
   "cell_type": "code",
   "execution_count": null,
   "metadata": {},
   "outputs": [],
   "source": [
    "import pandas as pd\n",
    "import os\n",
    "import sys\n",
    "from collections import Counter\n"
   ]
  },
  {
   "cell_type": "code",
   "execution_count": null,
   "metadata": {},
   "outputs": [],
   "source": [
    "eggnogg_annot = pd.read_csv('/DATA_RAID2/vtracann/shared/db/isolates/anvio/filtered_panpangenome/eggnogg/filtered_panpangenome.emapper.annotations', sep='\\t', index_col=0, skiprows=[0,1,2,3])\n",
    "eggnogg_annot = eggnogg_annot.iloc[:-3]\n",
    "eggnogg_annot = eggnogg_annot.reset_index()\n"
   ]
  },
  {
   "cell_type": "code",
   "execution_count": null,
   "metadata": {},
   "outputs": [],
   "source": [
    "print (eggnogg_annot.head())\n",
    "\n",
    "go_terms = eggnogg_annot['GOs']\n",
    "\n",
    "print (go_terms.head())"
   ]
  },
  {
   "cell_type": "code",
   "execution_count": null,
   "metadata": {},
   "outputs": [],
   "source": [
    "go_terms.index = eggnogg_annot['#query']\n",
    "\n",
    "go_terms.replace(to_replace='-', value='NA', inplace=True)\n",
    "\n",
    "print (go_terms)"
   ]
  },
  {
   "cell_type": "code",
   "execution_count": null,
   "metadata": {},
   "outputs": [],
   "source": [
    "def make_gene_cluster_go_dict(go_df):\n",
    "    gene_cluster_go_dict = {}\n",
    "    for gene in go_df.index:\n",
    "        GC = gene.split(\"|\")[1]\n",
    "        go_terms = go_df[gene]\n",
    "        if GC in gene_cluster_go_dict:\n",
    "            gene_cluster_go_dict[GC].append(go_terms)\n",
    "        else:\n",
    "            gene_cluster_go_dict[GC] = [go_terms]\n",
    "        \n",
    "    return gene_cluster_go_dict\n",
    "\n",
    "\n",
    "def consolidate_go_annotation(go_dict):\n",
    "    for GC in go_dict:\n",
    "        go_terms = go_dict[GC]\n",
    "        go_terms_counts = Counter(go_terms)\n",
    "        print (go_terms_counts)\n",
    "        sys.exit()\n",
    "    return annotated_go_dict"
   ]
  },
  {
   "cell_type": "code",
   "execution_count": null,
   "metadata": {},
   "outputs": [],
   "source": [
    "go_dict = make_gene_cluster_go_dict(go_terms)"
   ]
  },
  {
   "cell_type": "code",
   "execution_count": null,
   "metadata": {},
   "outputs": [],
   "source": [
    "#print (go_dict)\n",
    "\n",
    "#consolidate_go_annotation(go_dict)"
   ]
  }
 ],
 "metadata": {
  "kernelspec": {
   "display_name": "base",
   "language": "python",
   "name": "python3"
  },
  "language_info": {
   "codemirror_mode": {
    "name": "ipython",
    "version": 3
   },
   "file_extension": ".py",
   "mimetype": "text/x-python",
   "name": "python",
   "nbconvert_exporter": "python",
   "pygments_lexer": "ipython3",
   "version": "3.9.13"
  }
 },
 "nbformat": 4,
 "nbformat_minor": 2
}
